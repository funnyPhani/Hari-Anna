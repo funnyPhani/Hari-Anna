{
 "cells": [
  {
   "cell_type": "code",
   "execution_count": 1,
   "id": "e2e00970",
   "metadata": {},
   "outputs": [
    {
     "name": "stdout",
     "output_type": "stream",
     "text": [
      "Defaulting to user installation because normal site-packages is not writeable\n",
      "Requirement already satisfied: requests in /usr/lib/python3/dist-packages (2.25.1)\n"
     ]
    }
   ],
   "source": [
    "!pip install requests"
   ]
  },
  {
   "cell_type": "code",
   "execution_count": 2,
   "id": "fe7de52d",
   "metadata": {},
   "outputs": [
    {
     "name": "stdout",
     "output_type": "stream",
     "text": [
      "Defaulting to user installation because normal site-packages is not writeable\n",
      "Collecting bs4\n",
      "  Downloading bs4-0.0.1.tar.gz (1.1 kB)\n",
      "  Preparing metadata (setup.py) ... \u001b[?25ldone\n",
      "\u001b[?25hRequirement already satisfied: beautifulsoup4 in /usr/lib/python3/dist-packages (from bs4) (4.10.0)\n",
      "Building wheels for collected packages: bs4\n",
      "  Building wheel for bs4 (setup.py) ... \u001b[?25ldone\n",
      "\u001b[?25h  Created wheel for bs4: filename=bs4-0.0.1-py3-none-any.whl size=1272 sha256=b4cad71550cfd57917dc5ac2ce1e33da61a606206dd295a11e944d327d27e8d4\n",
      "  Stored in directory: /home/srmap/.cache/pip/wheels/25/42/45/b773edc52acb16cd2db4cf1a0b47117e2f69bb4eb300ed0e70\n",
      "Successfully built bs4\n",
      "Installing collected packages: bs4\n",
      "Successfully installed bs4-0.0.1\n"
     ]
    }
   ],
   "source": [
    "!pip install bs4\n"
   ]
  },
  {
   "cell_type": "markdown",
   "id": "ec626db8",
   "metadata": {},
   "source": [
    "# love inspirational life humor books reading friendship friends truth simile\n",
    "\n"
   ]
  },
  {
   "cell_type": "code",
   "execution_count": 36,
   "id": "2099798a",
   "metadata": {},
   "outputs": [
    {
     "name": "stdout",
     "output_type": "stream",
     "text": [
      "['love', 'inspirational', 'life', 'humor', 'books', 'reading', 'friendship', 'friends', 'truth', 'simile']\n",
      "enter ur data :jhsf\n",
      "please check the spell of the word..\n"
     ]
    }
   ],
   "source": [
    "def get_quotes():\n",
    "    try:\n",
    "        import requests\n",
    "        from bs4 import BeautifulSoup\n",
    "        points = \"\"\"\n",
    "\n",
    "        love \n",
    "        inspirational \n",
    "        life humor books \n",
    "        reading friendship \n",
    "        friends \n",
    "        truth \n",
    "        simile\n",
    "\n",
    "        \"\"\"\n",
    "        print(points.split())\n",
    "        user = input(\"enter ur data :\")\n",
    "        if user in points:\n",
    "            url = f\"https://quotes.toscrape.com/tag/{user}\"\n",
    "            a=requests.get(url)\n",
    "            # a\n",
    "            soup = BeautifulSoup(a.content,\"html.parser\")\n",
    "            # soup\n",
    "            # data = soup.find(\"span\",{\"class\":\"text\"})\n",
    "            # data.text.strip()\n",
    "            for i in soup.find_all(\"span\",{\"class\":\"text\"}):\n",
    "                print(i.text.strip())\n",
    "                print()\n",
    "        else:\n",
    "            print(\"please check the spell of the word..\")\n",
    "                \n",
    "    except Exception as e:\n",
    "        raise e\n",
    "get_quotes()"
   ]
  },
  {
   "cell_type": "code",
   "execution_count": 59,
   "id": "282378dc",
   "metadata": {},
   "outputs": [
    {
     "name": "stdout",
     "output_type": "stream",
     "text": [
      "https://norecipes.com/wp-content/uploads/2017/05/chicken-biryani-12-1200x1799.jpg\n"
     ]
    }
   ],
   "source": [
    "import requests\n",
    "from bs4 import BeautifulSoup\n",
    "url=\"https://norecipes.com/chicken-biryani-recipe/\"\n",
    "a=requests.get(url)\n",
    "soup=BeautifulSoup(a.content,\"html.parser\")\n",
    "data=soup.find(\"figure\",{\"class\":\"aligncenter size-large\"})\n",
    "for i in data:\n",
    "    for j in i.findAll(\"img\"):\n",
    "        print(j.get(\"src\"))\n",
    "#         download_img(j.get(\"src\"),\"chicken.jpg\")"
   ]
  },
  {
   "cell_type": "code",
   "execution_count": 48,
   "id": "a55b7663",
   "metadata": {},
   "outputs": [],
   "source": [
    "import urllib\n",
    "def download_img(url,name):\n",
    "    urllib.request.urlretrieve(url,name)\n",
    "#     return \"Image downloaded\"\n"
   ]
  },
  {
   "cell_type": "code",
   "execution_count": 58,
   "id": "26213155",
   "metadata": {},
   "outputs": [
    {
     "data": {
      "text/plain": [
       "('00000001.jpg', <http.client.HTTPMessage at 0x7f8d10b3c700>)"
      ]
     },
     "execution_count": 58,
     "metadata": {},
     "output_type": "execute_result"
    }
   ],
   "source": [
    "urllib.request.urlretrieve(\"https://images.indianexpress.com/2023/01/rajouri-explosion-jk-ani.jpg\", \"00000001.jpg\")"
   ]
  },
  {
   "cell_type": "code",
   "execution_count": 47,
   "id": "26bf250d",
   "metadata": {},
   "outputs": [
    {
     "data": {
      "text/plain": [
       "'/home/srmap/Downloads'"
      ]
     },
     "execution_count": 47,
     "metadata": {},
     "output_type": "execute_result"
    }
   ],
   "source": [
    "pwd"
   ]
  },
  {
   "cell_type": "code",
   "execution_count": null,
   "id": "dfc1f4fe",
   "metadata": {},
   "outputs": [],
   "source": []
  }
 ],
 "metadata": {
  "kernelspec": {
   "display_name": "Python 3 (ipykernel)",
   "language": "python",
   "name": "python3"
  },
  "language_info": {
   "codemirror_mode": {
    "name": "ipython",
    "version": 3
   },
   "file_extension": ".py",
   "mimetype": "text/x-python",
   "name": "python",
   "nbconvert_exporter": "python",
   "pygments_lexer": "ipython3",
   "version": "3.10.6"
  }
 },
 "nbformat": 4,
 "nbformat_minor": 5
}
