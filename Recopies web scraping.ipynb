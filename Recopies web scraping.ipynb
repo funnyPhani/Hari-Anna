{
 "cells": [
  {
   "cell_type": "code",
   "execution_count": 8,
   "id": "ac97dd6c",
   "metadata": {},
   "outputs": [],
   "source": [
    "try:\n",
    "    import pyforest,bs4,pandas,requests\n",
    "except Exception as e:\n",
    "    !pip install pyforest bs4 pandas requests"
   ]
  },
  {
   "cell_type": "code",
   "execution_count": 37,
   "id": "87673ff0",
   "metadata": {},
   "outputs": [
    {
     "name": "stdout",
     "output_type": "stream",
     "text": [
      "<Response [200]>\n"
     ]
    }
   ],
   "source": [
    "try:\n",
    "    import requests\n",
    "    from bs4 import BeautifulSoup\n",
    "    names = []\n",
    "    imgs = []\n",
    "    url = \"https://www.allrecipes.com/search?biryanis=biryanis&offset=0&q=biryanis\"\n",
    "    req = requests.get(url)\n",
    "    print(req)\n",
    "    soup = BeautifulSoup(req.content,\"html.parser\")\n",
    "    for i in soup.find_all(\"div\",{\"class\":\"img-placeholder\",}):\n",
    "        for j in i.findAll(\"img\"):\n",
    "            if j.get(\"data-src\") == None:\n",
    "                continue\n",
    "            imgs.append(j.get(\"data-src\"))\n",
    "    for k in soup.findAll(\"span\",{\"class\":\"card__title-text\"}):\n",
    "        names.append(k.text)\n",
    "except Exception as e:\n",
    "    raise e"
   ]
  },
  {
   "cell_type": "code",
   "execution_count": 47,
   "id": "041c65d5",
   "metadata": {},
   "outputs": [],
   "source": [
    "import pandas as pd\n",
    "df = pd.DataFrame([imgs,names]).T\n",
    "df.columns = ['ImageUrl',\"Name\"]\n",
    "# df\n",
    "\n",
    "import urllib\n",
    "import os\n",
    "os.makedirs(\"files\",exist_ok=True)\n",
    "def downloadimages(url,name):\n",
    "    urllib.request.urlretrieve(url, \"files//{}.jpg\".format(name))\n",
    "\n",
    "for i,j in zip(df['ImageUrl'],df['Name']):\n",
    "    downloadimages(i,j)\n",
    "    \n",
    "    "
   ]
  },
  {
   "cell_type": "code",
   "execution_count": 42,
   "id": "f6ca14c1",
   "metadata": {},
   "outputs": [],
   "source": []
  },
  {
   "cell_type": "code",
   "execution_count": 43,
   "id": "c6c1e15e",
   "metadata": {},
   "outputs": [],
   "source": []
  },
  {
   "cell_type": "code",
   "execution_count": null,
   "id": "79a7fc89",
   "metadata": {},
   "outputs": [],
   "source": []
  }
 ],
 "metadata": {
  "kernelspec": {
   "display_name": "Python 3 (ipykernel)",
   "language": "python",
   "name": "python3"
  },
  "language_info": {
   "codemirror_mode": {
    "name": "ipython",
    "version": 3
   },
   "file_extension": ".py",
   "mimetype": "text/x-python",
   "name": "python",
   "nbconvert_exporter": "python",
   "pygments_lexer": "ipython3",
   "version": "3.9.12"
  }
 },
 "nbformat": 4,
 "nbformat_minor": 5
}
